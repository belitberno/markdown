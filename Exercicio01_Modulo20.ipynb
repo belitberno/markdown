{
 "cells": [
  {
   "cell_type": "markdown",
   "id": "6fd57c8b",
   "metadata": {},
   "source": [
    "# Exercicio 01 - Modulo 20 : Curso Cientista de Dados - EBAC"
   ]
  },
  {
   "cell_type": "markdown",
   "id": "3ec9c8ff",
   "metadata": {},
   "source": [
    "[Repositório da Bélit Berno](https://github.com/belitberno/markdown)"
   ]
  },
  {
   "cell_type": "markdown",
   "id": "f67c2ebf",
   "metadata": {},
   "source": [
    "# Fórmula de Bhaskara\n",
    "\n",
    "<br>A solução para uma função de segundo grau depende das suas raízes (valores de x). Como já vimos, os coeficientes precisam ser números reais e o angular diferente de zero. Sendo assim, temos a seguinte fórmula de Bhaskara:<br>\n",
    "\n",
    "$$x=\\frac{-b \\pm \\sqrt{b^2-4ac}}{2a}$$\n",
    "$$_Formula de Bhaskara_$$\n",
    "\n",
    "<br>Para melhor compreensão o seu cálculo é dividido em duas partes: discriminante da equação e operações para determinar as raízes."
   ]
  },
  {
   "cell_type": "markdown",
   "id": "bccd94e2",
   "metadata": {},
   "source": [
    "## Discriminante \n",
    "\n",
    "<br>A figura dentro da raiz na fórmula de Bhaskara é nomeada de discriminante. Seu símbolo é a letra grega delta e apresenta a determinada fórmula:\n",
    "\n",
    "$$\\Delta=b^2-4ac$$\n",
    "$$_Formula da Discriminante_$$\n",
    "\n",
    "- Se o delta for maior que zero, a equação terá dois valores reais e distintos. \n",
    "- Se o delta for igual a zero, a equação terá somente um valor real ou dois resultados iguais. \n",
    "- Se o delta for menor que zero, a equação não possuirá valores reais. \n",
    "\n",
    "<br>Portanto, é fundamental o valor de delta para definir as raízes de uma função do segundo grau. Substituindo o discriminante e os coeficientes, a fórmula de Bhaskara ficará dessa forma:"
   ]
  },
  {
   "cell_type": "markdown",
   "id": "4e48e7bc",
   "metadata": {},
   "source": [
    "[Fonte do Texto? Clique aqui!!](https://www.educamaisbrasil.com.br/enem/matematica/formula-de-bhaskara)"
   ]
  },
  {
   "cell_type": "code",
   "execution_count": null,
   "id": "d7095f56",
   "metadata": {},
   "outputs": [],
   "source": []
  }
 ],
 "metadata": {
  "kernelspec": {
   "display_name": "Python 3 (ipykernel)",
   "language": "python",
   "name": "python3"
  },
  "language_info": {
   "codemirror_mode": {
    "name": "ipython",
    "version": 3
   },
   "file_extension": ".py",
   "mimetype": "text/x-python",
   "name": "python",
   "nbconvert_exporter": "python",
   "pygments_lexer": "ipython3",
   "version": "3.11.5"
  }
 },
 "nbformat": 4,
 "nbformat_minor": 5
}
